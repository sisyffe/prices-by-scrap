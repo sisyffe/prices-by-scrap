{
 "cells": [
  {
   "cell_type": "code",
   "execution_count": null,
   "metadata": {},
   "outputs": [],
   "source": [
    "import prices_by_scrap\n",
    "import pandas as pd\n",
    "import numpy as np\n",
    "from datetime import date \n",
    "\n",
    "CSV_IN = \"result/prices.csv\"\n",
    "CSV_OUT = \"result/average_by_month.csv\"\n",
    "ARGUMENTS = \"Frankreich -l WARNING -o prices.csv -f result\"\n",
    "COLUMNS = [\"Date\",\"Country\",\"Name\",\"Price in euros per MW\"]\n",
    "DATE_FORMAT = \"%Y-%m-%d\"\n"
   ]
  },
  {
   "cell_type": "code",
   "execution_count": null,
   "metadata": {},
   "outputs": [],
   "source": [
    "# Execute program\n",
    "prices_by_scrap.main(ARGUMENTS)"
   ]
  },
  {
   "cell_type": "code",
   "execution_count": null,
   "metadata": {},
   "outputs": [],
   "source": [
    "# Process data\n",
    "df = pd.read_csv(CSV_IN, sep=';', parse_dates=False)\n",
    "\n",
    "df[COLUMNS[3]] = pd.to_numeric(df[COLUMNS[3]].str.replace(',', '.'))/4\n",
    "df[COLUMNS[0]] = pd.to_datetime(df[COLUMNS[0]], format=DATE_FORMAT)\n",
    "df['month'] = pd.DatetimeIndex(df[COLUMNS[0]]).month\n",
    "df['year'] = pd.DatetimeIndex(df[COLUMNS[0]]).year\n",
    "table = pd.pivot_table(df, values=COLUMNS[3], index=[COLUMNS[0]], aggfunc=[\"min\", \"max\", \"mean\"], margins=False)\n",
    "table.reset_index(inplace = True)\n",
    "table[COLUMNS[0]] = pd.to_datetime(table[COLUMNS[0]], format=\"%d/%m/%Y\")\n",
    "table['month'] = pd.DatetimeIndex(table[COLUMNS[0]]).month\n",
    "table['year'] = pd.DatetimeIndex(table[COLUMNS[0]]).year\n",
    "table.set_index(COLUMNS[0], inplace=True)\n",
    "table2 = pd.pivot_table(table, values=['min', 'max', 'mean'], index=['year', 'month'], aggfunc=\"mean\")\n",
    "table2 = table2[['min', 'mean', 'max']]\n",
    "table2 = table2.round(decimals=1)\n",
    "print(\"Moyennes mensuelles des min/max journaliers et des moyennes journalières\\n\")\n",
    "print(table2)\n",
    "print(\"\\n\\n\")\n",
    "\n",
    "table2.to_csv(CSV_OUT, sep =';')\n",
    "\n",
    "todays_date = date.today()\n",
    "table = pd.pivot_table(df[ (df['year'] == todays_date.year) & (df['month'] == todays_date.month) ],\n",
    "                       values=COLUMNS[3], index=[COLUMNS[0]], aggfunc=[\"min\", \"max\", \"mean\"], margins=True)\n",
    "table = table[['min', 'mean', 'max']]\n",
    "table = table.round(decimals=1)\n",
    "print(\"Zoom mois en cours\\n\")\n",
    "print(table)"
   ]
  },
  {
   "cell_type": "code",
   "execution_count": null,
   "metadata": {},
   "outputs": [],
   "source": []
  }
 ],
 "metadata": {
  "kernelspec": {
   "display_name": "Python 3",
   "language": "python",
   "name": "python3"
  },
  "language_info": {
   "codemirror_mode": {
    "name": "ipython",
    "version": 3
   },
   "file_extension": ".py",
   "mimetype": "text/x-python",
   "name": "python",
   "nbconvert_exporter": "python",
   "pygments_lexer": "ipython3",
   "version": "3.12.0"
  }
 },
 "nbformat": 4,
 "nbformat_minor": 2
}
